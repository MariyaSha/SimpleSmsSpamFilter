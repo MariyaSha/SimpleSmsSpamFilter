{
 "cells": [
  {
   "cell_type": "markdown",
   "metadata": {},
   "source": [
    "## Step 1: Loading the Dataset"
   ]
  },
  {
   "cell_type": "code",
   "execution_count": 12,
   "metadata": {},
   "outputs": [
    {
     "data": {
      "text/html": [
       "<div>\n",
       "<style scoped>\n",
       "    .dataframe tbody tr th:only-of-type {\n",
       "        vertical-align: middle;\n",
       "    }\n",
       "\n",
       "    .dataframe tbody tr th {\n",
       "        vertical-align: top;\n",
       "    }\n",
       "\n",
       "    .dataframe thead th {\n",
       "        text-align: right;\n",
       "    }\n",
       "</style>\n",
       "<table border=\"1\" class=\"dataframe\">\n",
       "  <thead>\n",
       "    <tr style=\"text-align: right;\">\n",
       "      <th></th>\n",
       "      <th>label</th>\n",
       "      <th>sms</th>\n",
       "    </tr>\n",
       "  </thead>\n",
       "  <tbody>\n",
       "    <tr>\n",
       "      <th>0</th>\n",
       "      <td>ham</td>\n",
       "      <td>Go until jurong point, crazy.. Available only ...</td>\n",
       "    </tr>\n",
       "    <tr>\n",
       "      <th>1</th>\n",
       "      <td>ham</td>\n",
       "      <td>Ok lar... Joking wif u oni...</td>\n",
       "    </tr>\n",
       "    <tr>\n",
       "      <th>2</th>\n",
       "      <td>spam</td>\n",
       "      <td>Free entry in 2 a wkly comp to win FA Cup fina...</td>\n",
       "    </tr>\n",
       "    <tr>\n",
       "      <th>3</th>\n",
       "      <td>ham</td>\n",
       "      <td>U dun say so early hor... U c already then say...</td>\n",
       "    </tr>\n",
       "    <tr>\n",
       "      <th>4</th>\n",
       "      <td>ham</td>\n",
       "      <td>Nah I don't think he goes to usf, he lives aro...</td>\n",
       "    </tr>\n",
       "  </tbody>\n",
       "</table>\n",
       "</div>"
      ],
      "text/plain": [
       "  label                                                sms\n",
       "0   ham  Go until jurong point, crazy.. Available only ...\n",
       "1   ham                      Ok lar... Joking wif u oni...\n",
       "2  spam  Free entry in 2 a wkly comp to win FA Cup fina...\n",
       "3   ham  U dun say so early hor... U c already then say...\n",
       "4   ham  Nah I don't think he goes to usf, he lives aro..."
      ]
     },
     "execution_count": 12,
     "metadata": {},
     "output_type": "execute_result"
    }
   ],
   "source": [
    "import pandas as pd\n",
    "\n",
    "data = pd.read_csv('SMSSpamCollection.txt', sep = '\\t', header=None, names=[\"label\", \"sms\"])\n",
    "data.head()"
   ]
  },
  {
   "cell_type": "markdown",
   "metadata": {},
   "source": [
    "## Step 2: Pre-Processing"
   ]
  },
  {
   "cell_type": "code",
   "execution_count": 3,
   "metadata": {},
   "outputs": [
    {
     "name": "stderr",
     "output_type": "stream",
     "text": [
      "[nltk_data] Downloading package stopwords to\n",
      "[nltk_data]     C:\\Users\\pagan_000\\AppData\\Roaming\\nltk_data...\n",
      "[nltk_data]   Package stopwords is already up-to-date!\n",
      "[nltk_data] Downloading package punkt to\n",
      "[nltk_data]     C:\\Users\\pagan_000\\AppData\\Roaming\\nltk_data...\n"
     ]
    },
    {
     "name": "stdout",
     "output_type": "stream",
     "text": [
      "['i', 'me', 'my', 'myself', 'we']\n",
      "!\"#$%&'()*+,-./:;<=>?@[\\]^_`{|}~\n"
     ]
    },
    {
     "name": "stderr",
     "output_type": "stream",
     "text": [
      "[nltk_data]   Package punkt is already up-to-date!\n"
     ]
    }
   ],
   "source": [
    "import string\n",
    "import nltk\n",
    "nltk.download('stopwords')\n",
    "nltk.download('punkt')\n",
    "\n",
    "stopwords = nltk.corpus.stopwords.words('english')\n",
    "punctuation = string.punctuation\n",
    "\n",
    "print(stopwords[:5])\n",
    "print(punctuation)"
   ]
  },
  {
   "cell_type": "code",
   "execution_count": 14,
   "metadata": {},
   "outputs": [
    {
     "name": "stdout",
     "output_type": "stream",
     "text": [
      "0    [go, jurong, point, crazy, available, bugis, n...\n",
      "1                       [ok, lar, joking, wif, u, oni]\n",
      "2    [free, entry, 2, wkly, comp, win, fa, cup, fin...\n",
      "3        [u, dun, say, early, hor, u, c, already, say]\n",
      "4    [nah, dont, think, goes, usf, lives, around, t...\n",
      "Name: processed, dtype: object\n"
     ]
    }
   ],
   "source": [
    "def pre_process(sms):\n",
    "    remove_punct = \"\".join([word.lower() for word in sms if word not in punctuation])\n",
    "    tokenize = nltk.tokenize.word_tokenize(remove_punct)\n",
    "    remove_stopwords = [word for word in tokenize if word not in stopwords]\n",
    "    return remove_stopwords\n",
    "\n",
    "#adding a column to our data with our processed messages\n",
    "data['processed'] = data['sms'].apply(lambda x: pre_process(x))\n",
    "\n",
    "print(data['processed'].head())"
   ]
  },
  {
   "cell_type": "markdown",
   "metadata": {},
   "source": [
    "## Step 3: Categorizing and Counting Tokens"
   ]
  },
  {
   "cell_type": "code",
   "execution_count": 5,
   "metadata": {},
   "outputs": [
    {
     "name": "stdout",
     "output_type": "stream",
     "text": [
      "['free', 'entry', '2', 'wkly', 'comp']\n",
      "['go', 'jurong', 'point', 'crazy', 'available']\n"
     ]
    }
   ],
   "source": [
    "def categorize_words():\n",
    "    spam_words = []\n",
    "    ham_words = []\n",
    "    #handling messages associated with spam\n",
    "    for sms in data['processed'][data['label'] == 'spam']:\n",
    "        for word in sms:\n",
    "            spam_words.append(word)\n",
    "    #handling messages associated with ham\n",
    "    for sms in data['processed'][data['label'] == 'ham']:\n",
    "        for word in sms:\n",
    "            ham_words.append(word)\n",
    "    return spam_words, ham_words\n",
    "\n",
    "spam_words, ham_words = categorize_words()\n",
    "\n",
    "print(spam_words[:5])\n",
    "print(ham_words[:5])"
   ]
  },
  {
   "cell_type": "markdown",
   "metadata": {},
   "source": [
    "## Step 4: Predict Function"
   ]
  },
  {
   "cell_type": "code",
   "execution_count": 6,
   "metadata": {},
   "outputs": [],
   "source": [
    "def predict(sms):\n",
    "    spam_counter = 0\n",
    "    ham_counter = 0\n",
    "    #count the occurances of each word in the sms string\n",
    "    for word in sms:\n",
    "        spam_counter += spam_words.count(word)\n",
    "        ham_counter += ham_words.count(word)\n",
    "    print('***RESULTS***')\n",
    "    #if the message is ham\n",
    "    if ham_counter > spam_counter:\n",
    "        accuracy = round((ham_counter / (ham_counter + spam_counter) * 100))\n",
    "        print('messege is not spam, with {}% certainty'.format(accuracy))\n",
    "    #if the message is equally spam and ham\n",
    "    elif ham_counter == spam_counter:\n",
    "        print('message could be spam')\n",
    "    #if the message is spam\n",
    "    else:\n",
    "        accuracy = round((spam_counter / (ham_counter + spam_counter)* 100))\n",
    "        print('message is spam, with {}% certainty'.format(accuracy))"
   ]
  },
  {
   "cell_type": "markdown",
   "metadata": {},
   "source": [
    "## Step 5: Collecting User Input & Results"
   ]
  },
  {
   "cell_type": "code",
   "execution_count": 11,
   "metadata": {},
   "outputs": [
    {
     "name": "stdout",
     "output_type": "stream",
     "text": [
      "Please type a spam or ham message to check if our function predicts accurately\n",
      "CRA has important information for you, call 1-800-789-7898 now!\n",
      "***RESULTS***\n",
      "message is spam, with 60% certainty\n"
     ]
    }
   ],
   "source": [
    "user_input = input(\"Please type a spam or ham message to check if our function predicts accurately\\n\")\n",
    "#pre-processing the input before prediction\n",
    "processed_input = pre_process(user_input)\n",
    "\n",
    "predict(processed_input)"
   ]
  },
  {
   "cell_type": "code",
   "execution_count": null,
   "metadata": {},
   "outputs": [],
   "source": []
  }
 ],
 "metadata": {
  "kernelspec": {
   "display_name": "Python 3",
   "language": "python",
   "name": "python3"
  },
  "language_info": {
   "codemirror_mode": {
    "name": "ipython",
    "version": 3
   },
   "file_extension": ".py",
   "mimetype": "text/x-python",
   "name": "python",
   "nbconvert_exporter": "python",
   "pygments_lexer": "ipython3",
   "version": "3.7.0"
  }
 },
 "nbformat": 4,
 "nbformat_minor": 2
}
